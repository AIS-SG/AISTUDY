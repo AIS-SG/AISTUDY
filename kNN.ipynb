{
 "cells": [
  {
   "cell_type": "code",
   "execution_count": 10,
   "metadata": {},
   "outputs": [],
   "source": [
    "from numpy import *\n",
    "import operator"
   ]
  },
  {
   "cell_type": "code",
   "execution_count": 11,
   "metadata": {},
   "outputs": [],
   "source": [
    "def createDataSet():\n",
    "    group = array([[1.0,2.0],[1.0,4.0],[4.0,1.0],[4.0,2.0]])\n",
    "    labels = ['Action','Action','Romantic','Romantic']\n",
    "    return group, lables"
   ]
  },
  {
   "cell_type": "code",
   "execution_count": 12,
   "metadata": {},
   "outputs": [],
   "source": [
    "def calcDistance(inX, dataSet, labels, k):\n",
    "    # shape is a tuple that gives dimensions of the array\n",
    "    # shape[0] returns the number of rows, here will return 4\n",
    "    dataSetSize = dataSet.shape[0]  # dataSetSize = 4\n",
    "    \n",
    "    # numpy.tile(A, reps): construct an array by repeating A the number of times given by reps\n",
    "    # if reps has length d, the result will have dimension of max(d, A.ndim)\n",
    "    # tile(inX, (dataSetSize,1)) will return [ [0,0] [0,0] [0,0] [0,0] ]\n",
    "    # diffMat is [ [1, 1], [1, -1], [-2, 2], [-2, 1] ]\n",
    "    diffMat = tile(inX, (dataSetSize, 1)) - dataSet\n",
    "\n",
    "    # **2 means square\n",
    "    sqDiffMat = diffMat ** 2\n",
    "\n",
    "    # sqDistances = x^2 + y^2\n",
    "    sqDistances = sqDiffMat.sum(axis=1)\n",
    "    # distance is equal to the square root of the sum of the squares of the coordinates\n",
    "    # distance = [2, 2, 8, 5]\n",
    "    distances = sqDistances ** 0.5\n",
    "\n",
    "    # numpy.argsort() returns the indices that would sort an array\n",
    "    # here returns [0 1 3 2]\n",
    "    sortedDistIndices = distances.argsort()\n",
    "    return sortedDistIndices"
   ]
  },
  {
   "cell_type": "code",
   "execution_count": 13,
   "metadata": {},
   "outputs": [],
   "source": [
    "def findMajorityClass(inX, dataSet, labels, k, sortedDistIndices):\n",
    "    classCount = {}\n",
    "\n",
    "    # iterate k times from the closest item\n",
    "    for i in range(k):\n",
    "        voteIlabel = labels[sortedDistIndices[i]]\n",
    "        # increase +1 on the selected label\n",
    "        classCount[voteIlabel] = classCount.get(voteIlabel, 0) + 1\n",
    "\n",
    "    # classCount dictionary : {'Action': 2, 'Romantic': 1}\n",
    "    # sort ClassCount Descending order\n",
    "\n",
    "    return sorted(classCount.iteritems(), key=operator.itemgetter(1), reverse=True)"
   ]
  },
  {
   "cell_type": "code",
   "execution_count": 14,
   "metadata": {},
   "outputs": [],
   "source": [
    "def classify0(inX, dataSet, labels, k):\n",
    "    # calculate the distance between inX and the current point\n",
    "    sortedDistIndices = calcDistance(inX, dataSet, labels, k)\n",
    "    # take k items with lowest distances to inX and find the majority class among k items\n",
    "    sortedClassCount = findMajorityClass(inX, dataSet, labels, k, sortedDistIndices)\n",
    "    # sortedClassCount is now [('Action', 2)], therefore return Action\n",
    "    return sortedClassCount[0][0]\n"
   ]
  },
  {
   "cell_type": "code",
   "execution_count": 18,
   "metadata": {},
   "outputs": [
    {
     "ename": "AttributeError",
     "evalue": "'dict' object has no attribute 'iteritems'",
     "output_type": "error",
     "traceback": [
      "\u001b[1;31m---------------------------------------------------------------------------\u001b[0m",
      "\u001b[1;31mAttributeError\u001b[0m                            Traceback (most recent call last)",
      "\u001b[1;32m<ipython-input-18-a82d194a4dc6>\u001b[0m in \u001b[0;36m<module>\u001b[1;34m\u001b[0m\n\u001b[0;32m      1\u001b[0m \u001b[0mgroup\u001b[0m\u001b[1;33m,\u001b[0m \u001b[0mlables\u001b[0m \u001b[1;33m=\u001b[0m \u001b[0mcreateDataSet\u001b[0m\u001b[1;33m(\u001b[0m\u001b[1;33m)\u001b[0m\u001b[1;33m\u001b[0m\u001b[1;33m\u001b[0m\u001b[0m\n\u001b[1;32m----> 2\u001b[1;33m \u001b[0mresult\u001b[0m \u001b[1;33m=\u001b[0m \u001b[0mclassify0\u001b[0m\u001b[1;33m(\u001b[0m\u001b[1;33m[\u001b[0m\u001b[1;36m2.0\u001b[0m\u001b[1;33m,\u001b[0m \u001b[1;36m3.0\u001b[0m\u001b[1;33m]\u001b[0m\u001b[1;33m,\u001b[0m \u001b[0mgroup\u001b[0m\u001b[1;33m,\u001b[0m \u001b[0mlabels\u001b[0m\u001b[1;33m,\u001b[0m\u001b[1;36m3\u001b[0m\u001b[1;33m)\u001b[0m\u001b[1;33m\u001b[0m\u001b[1;33m\u001b[0m\u001b[0m\n\u001b[0m\u001b[0;32m      3\u001b[0m \u001b[0mprint\u001b[0m\u001b[1;33m(\u001b[0m\u001b[0mresult\u001b[0m\u001b[1;33m)\u001b[0m\u001b[1;33m\u001b[0m\u001b[1;33m\u001b[0m\u001b[0m\n",
      "\u001b[1;32m<ipython-input-17-d7dc13a79b59>\u001b[0m in \u001b[0;36mclassify0\u001b[1;34m(inX, dataSet, labels, k)\u001b[0m\n\u001b[0;32m     51\u001b[0m     \u001b[0msortedDistIndices\u001b[0m \u001b[1;33m=\u001b[0m \u001b[0mcalcDistance\u001b[0m\u001b[1;33m(\u001b[0m\u001b[0minX\u001b[0m\u001b[1;33m,\u001b[0m \u001b[0mdataSet\u001b[0m\u001b[1;33m,\u001b[0m \u001b[0mlabels\u001b[0m\u001b[1;33m,\u001b[0m \u001b[0mk\u001b[0m\u001b[1;33m)\u001b[0m\u001b[1;33m\u001b[0m\u001b[1;33m\u001b[0m\u001b[0m\n\u001b[0;32m     52\u001b[0m     \u001b[1;31m# take k items with lowest distances to inX and find the majority class among k items\u001b[0m\u001b[1;33m\u001b[0m\u001b[1;33m\u001b[0m\u001b[1;33m\u001b[0m\u001b[0m\n\u001b[1;32m---> 53\u001b[1;33m     \u001b[0msortedClassCount\u001b[0m \u001b[1;33m=\u001b[0m \u001b[0mfindMajorityClass\u001b[0m\u001b[1;33m(\u001b[0m\u001b[0minX\u001b[0m\u001b[1;33m,\u001b[0m \u001b[0mdataSet\u001b[0m\u001b[1;33m,\u001b[0m \u001b[0mlabels\u001b[0m\u001b[1;33m,\u001b[0m \u001b[0mk\u001b[0m\u001b[1;33m,\u001b[0m \u001b[0msortedDistIndices\u001b[0m\u001b[1;33m)\u001b[0m\u001b[1;33m\u001b[0m\u001b[1;33m\u001b[0m\u001b[0m\n\u001b[0m\u001b[0;32m     54\u001b[0m     \u001b[1;31m# sortedClassCount is now [('Action', 2)], therefore return Action\u001b[0m\u001b[1;33m\u001b[0m\u001b[1;33m\u001b[0m\u001b[1;33m\u001b[0m\u001b[0m\n\u001b[0;32m     55\u001b[0m     \u001b[1;32mreturn\u001b[0m \u001b[0msortedClassCount\u001b[0m\u001b[1;33m[\u001b[0m\u001b[1;36m0\u001b[0m\u001b[1;33m]\u001b[0m\u001b[1;33m[\u001b[0m\u001b[1;36m0\u001b[0m\u001b[1;33m]\u001b[0m\u001b[1;33m\u001b[0m\u001b[1;33m\u001b[0m\u001b[0m\n",
      "\u001b[1;32m<ipython-input-17-d7dc13a79b59>\u001b[0m in \u001b[0;36mfindMajorityClass\u001b[1;34m(inX, dataSet, labels, k, sortedDistIndices)\u001b[0m\n\u001b[0;32m     44\u001b[0m     \u001b[1;31m# sort ClassCount Descending order\u001b[0m\u001b[1;33m\u001b[0m\u001b[1;33m\u001b[0m\u001b[1;33m\u001b[0m\u001b[0m\n\u001b[0;32m     45\u001b[0m \u001b[1;33m\u001b[0m\u001b[0m\n\u001b[1;32m---> 46\u001b[1;33m     \u001b[1;32mreturn\u001b[0m \u001b[0msorted\u001b[0m\u001b[1;33m(\u001b[0m\u001b[0mclassCount\u001b[0m\u001b[1;33m.\u001b[0m\u001b[0miteritems\u001b[0m\u001b[1;33m(\u001b[0m\u001b[1;33m)\u001b[0m\u001b[1;33m,\u001b[0m \u001b[0mkey\u001b[0m\u001b[1;33m=\u001b[0m\u001b[0moperator\u001b[0m\u001b[1;33m.\u001b[0m\u001b[0mitemgetter\u001b[0m\u001b[1;33m(\u001b[0m\u001b[1;36m1\u001b[0m\u001b[1;33m)\u001b[0m\u001b[1;33m,\u001b[0m \u001b[0mreverse\u001b[0m\u001b[1;33m=\u001b[0m\u001b[1;32mTrue\u001b[0m\u001b[1;33m)\u001b[0m\u001b[1;33m\u001b[0m\u001b[1;33m\u001b[0m\u001b[0m\n\u001b[0m\u001b[0;32m     47\u001b[0m \u001b[1;33m\u001b[0m\u001b[0m\n\u001b[0;32m     48\u001b[0m \u001b[1;33m\u001b[0m\u001b[0m\n",
      "\u001b[1;31mAttributeError\u001b[0m: 'dict' object has no attribute 'iteritems'"
     ]
    }
   ],
   "source": [
    " group, lables = createDataSet()\n",
    "result = classify0([2.0, 3.0], group, labels,3)\n",
    "print(result)"
   ]
  },
  {
   "cell_type": "code",
   "execution_count": null,
   "metadata": {},
   "outputs": [],
   "source": []
  }
 ],
 "metadata": {
  "kernelspec": {
   "display_name": "Python 3",
   "language": "python",
   "name": "python3"
  },
  "language_info": {
   "codemirror_mode": {
    "name": "ipython",
    "version": 3
   },
   "file_extension": ".py",
   "mimetype": "text/x-python",
   "name": "python",
   "nbconvert_exporter": "python",
   "pygments_lexer": "ipython3",
   "version": "3.6.10"
  }
 },
 "nbformat": 4,
 "nbformat_minor": 4
}
